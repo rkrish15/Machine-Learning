{
 "cells": [
  {
   "cell_type": "code",
   "execution_count": 4,
   "metadata": {},
   "outputs": [
    {
     "name": "stderr",
     "output_type": "stream",
     "text": [
      "c:\\Users\\Krish\\AppData\\Local\\Programs\\Python\\Python311\\Lib\\site-packages\\fuzzywuzzy\\fuzz.py:11: UserWarning: Using slow pure-python SequenceMatcher. Install python-Levenshtein to remove this warning\n",
      "  warnings.warn('Using slow pure-python SequenceMatcher. Install python-Levenshtein to remove this warning')\n"
     ]
    }
   ],
   "source": [
    "import os\n",
    "import numpy as np\n",
    "import pandas as pd\n",
    "from sklearn.neighbors import NearestNeighbors\n",
    "from fuzzywuzzy import process"
   ]
  },
  {
   "cell_type": "code",
   "execution_count": 6,
   "metadata": {},
   "outputs": [],
   "source": [
    "# Load the data\n",
    "user_ratings_df = pd.read_csv(r'C:\\Users\\Krish\\Downloads\\ratings.csv')\n",
    "movie_metadata = pd.read_csv(r'C:\\Users\\Krish\\Downloads\\movies_metadata.csv')"
   ]
  },
  {
   "cell_type": "code",
   "execution_count": 7,
   "metadata": {},
   "outputs": [],
   "source": [
    "# Merge the data\n",
    "movie_data = user_ratings_df.merge(movie_metadata, on=\"movieId\")"
   ]
  },
  {
   "cell_type": "code",
   "execution_count": 8,
   "metadata": {},
   "outputs": [],
   "source": [
    "# Create a user-item matrix\n",
    "user_item_matrix = user_ratings_df.pivot(\n",
    "    index=[\"movieId\"], columns=[\"userId\"], values=\"rating\"\n",
    "    ).fillna(0)"
   ]
  },
  {
   "cell_type": "code",
   "execution_count": 14,
   "metadata": {},
   "outputs": [],
   "source": [
    "# Create a KNN model\n",
    "cf_model = NearestNeighbors(\n",
    "    metric=\"cosine\", algorithm=\"brute\", n_neighbors=10, n_jobs=-1\n",
    ")"
   ]
  },
  {
   "cell_type": "code",
   "execution_count": 15,
   "metadata": {},
   "outputs": [],
   "source": [
    "def movie_recommender_engine(movie_name, matrix, cf_model, n_recs):\n",
    "    # Fit the model\n",
    "    cf_knn_model = cf_model.fit(user_item_matrix)\n",
    "\n",
    "    # Extract the movie index\n",
    "    movie_id = process.extractOne(movie_name, movie_metadata[\"title\"])[2]\n",
    "\n",
    "    # Calculate neighbor distances\n",
    "    distances, indices = cf_knn_model.kneighbors(matrix.loc[movie_id, :].values.reshape(1, -1), n_neighbors=n_recs)\n",
    "    movie_rec_ids = sorted(\n",
    "        list(zip(indices.squeeze().tolist(), distances.squeeze().tolist())),\n",
    "        key=lambda x: x[1],\n",
    "    )[:0:-1]\n",
    "\n",
    "    # List to store recommendations\n",
    "    cf_recs = []\n",
    "    for i in movie_rec_ids:\n",
    "        cf_recs.append({\"Title\": movie_metadata[\"title\"][i[0]], \"Distance\": i[1]})\n",
    "\n",
    "    # Select top number of recommendations needed\n",
    "    df = pd.DataFrame(cf_recs, index=range(1, n_recs))\n",
    "\n",
    "    return df"
   ]
  },
  {
   "cell_type": "code",
   "execution_count": 16,
   "metadata": {},
   "outputs": [
    {
     "name": "stdout",
     "output_type": "stream",
     "text": [
      "                                        Title  Distance\n",
      "1                             Flawless (1999)  0.597089\n",
      "2                             Red Heat (1988)  0.597089\n",
      "3                     Crying Game, The (1992)  0.587825\n",
      "4                            They Live (1988)  0.587103\n",
      "5                         Getaway, The (1994)  0.574307\n",
      "6  Best of the Best 3: No Turning Back (1995)  0.571575\n",
      "7                                 Clue (1985)  0.563818\n",
      "8                   Permanent Midnight (1998)  0.546030\n",
      "9                  Emerald Forest, The (1985)  0.545391\n"
     ]
    }
   ],
   "source": [
    "n_recs = 10 # Number of recommendations (excluding the movie itself)\n",
    "print(movie_recommender_engine(\"Terminator\", user_item_matrix, cf_model, n_recs))"
   ]
  }
 ],
 "metadata": {
  "kernelspec": {
   "display_name": "Python 3",
   "language": "python",
   "name": "python3"
  },
  "language_info": {
   "codemirror_mode": {
    "name": "ipython",
    "version": 3
   },
   "file_extension": ".py",
   "mimetype": "text/x-python",
   "name": "python",
   "nbconvert_exporter": "python",
   "pygments_lexer": "ipython3",
   "version": "3.11.4"
  }
 },
 "nbformat": 4,
 "nbformat_minor": 2
}
